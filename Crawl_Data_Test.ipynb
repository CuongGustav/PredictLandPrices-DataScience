{
 "cells": [
  {
   "cell_type": "markdown",
   "metadata": {},
   "source": [
    "# Nhóm hướng đến bài toán dự đoán giá đất nền ở thành phố Đà nẵng"
   ]
  },
  {
   "cell_type": "markdown",
   "metadata": {},
   "source": [
    "### Import library"
   ]
  },
  {
   "cell_type": "code",
   "execution_count": 1,
   "metadata": {},
   "outputs": [],
   "source": [
    "import pandas  as pd\n",
    "import numpy as np\n",
    "import matplotlib.pyplot as plt\n",
    "import seaborn as sns\n",
    "import re\n",
    "from requests_html import HTML\n",
    "from requests_html import HTMLSession\n",
    "from selenium import webdriver\n",
    "from selenium.webdriver.chrome.service import Service\n",
    "from selenium.webdriver.common.by import By\n",
    "from bs4 import BeautifulSoup\n",
    "import time\n",
    "import sys"
   ]
  },
  {
   "cell_type": "markdown",
   "metadata": {},
   "source": [
    "## Crawl link from nhatot.vn"
   ]
  },
  {
   "cell_type": "code",
   "execution_count": 2,
   "metadata": {},
   "outputs": [],
   "source": [
    "arr = []\n",
    "try:\n",
    "    for page in range(85): #140\n",
    "        page= str(page+1)\n",
    "        link =\"https://www.nhatot.com/mua-ban-dat-da-nang?page=\"+page\n",
    "        session = HTMLSession()\n",
    "        driver = webdriver.Chrome()\n",
    "        driver.get(link)\n",
    "        time.sleep(1)\n",
    "\n",
    "        page_source = driver.page_source\n",
    "        soup = BeautifulSoup(page_source, 'html.parser')\n",
    "\n",
    "        # session = HTMLSession()\n",
    "        # r = session.get(link)\n",
    "        # soup = BeautifulSoup(r.text,'html.parser')\n",
    "        # a = soup.find_all(\"a\",class_='AdItem_adItem__gDDQT')\n",
    "        a = soup.find_all('a', {'class': 'AdItem_adItem__gDDQT'})\n",
    "\n",
    "        for i in range(len(a)):\n",
    "            link =\"https://nhatot.com/\"+a[i]['href']\n",
    "            arr.append(link)\n",
    "    df = pd.DataFrame(arr,columns=['links'])\n",
    "except KeyboardInterrupt:\n",
    "    pass  # Xử lý ngoại lệ khi người dùng gián đoạn chương trình\n",
    "finally:\n",
    "    df = pd.DataFrame(arr, columns=['links'])"
   ]
  },
  {
   "cell_type": "markdown",
   "metadata": {},
   "source": [
    "### Export file link_nhatot.csv"
   ]
  },
  {
   "cell_type": "code",
   "execution_count": 3,
   "metadata": {},
   "outputs": [
    {
     "name": "stdout",
     "output_type": "stream",
     "text": [
      "hoàn thành\n"
     ]
    }
   ],
   "source": [
    "df.to_csv('.\\\\raw data\\\\data_test\\\\link_nhatot_test.csv', index=True)\n",
    "print(\"hoàn thành\")"
   ]
  },
  {
   "cell_type": "markdown",
   "metadata": {},
   "source": [
    "### View a head of file nhatot.csv"
   ]
  },
  {
   "cell_type": "code",
   "execution_count": 4,
   "metadata": {},
   "outputs": [
    {
     "data": {
      "text/html": [
       "<div>\n",
       "<style scoped>\n",
       "    .dataframe tbody tr th:only-of-type {\n",
       "        vertical-align: middle;\n",
       "    }\n",
       "\n",
       "    .dataframe tbody tr th {\n",
       "        vertical-align: top;\n",
       "    }\n",
       "\n",
       "    .dataframe thead th {\n",
       "        text-align: right;\n",
       "    }\n",
       "</style>\n",
       "<table border=\"1\" class=\"dataframe\">\n",
       "  <thead>\n",
       "    <tr style=\"text-align: right;\">\n",
       "      <th></th>\n",
       "      <th>Unnamed: 0</th>\n",
       "      <th>links</th>\n",
       "    </tr>\n",
       "  </thead>\n",
       "  <tbody>\n",
       "    <tr>\n",
       "      <th>0</th>\n",
       "      <td>0</td>\n",
       "      <td>https://nhatot.com//mua-ban-dat-huyen-hoa-vang...</td>\n",
       "    </tr>\n",
       "    <tr>\n",
       "      <th>1</th>\n",
       "      <td>1</td>\n",
       "      <td>https://nhatot.com//mua-ban-dat-quan-ngu-hanh-...</td>\n",
       "    </tr>\n",
       "    <tr>\n",
       "      <th>2</th>\n",
       "      <td>2</td>\n",
       "      <td>https://nhatot.com//mua-ban-dat-quan-lien-chie...</td>\n",
       "    </tr>\n",
       "    <tr>\n",
       "      <th>3</th>\n",
       "      <td>3</td>\n",
       "      <td>https://nhatot.com//mua-ban-dat-quan-ngu-hanh-...</td>\n",
       "    </tr>\n",
       "    <tr>\n",
       "      <th>4</th>\n",
       "      <td>4</td>\n",
       "      <td>https://nhatot.com//mua-ban-dat-quan-lien-chie...</td>\n",
       "    </tr>\n",
       "  </tbody>\n",
       "</table>\n",
       "</div>"
      ],
      "text/plain": [
       "   Unnamed: 0                                              links\n",
       "0           0  https://nhatot.com//mua-ban-dat-huyen-hoa-vang...\n",
       "1           1  https://nhatot.com//mua-ban-dat-quan-ngu-hanh-...\n",
       "2           2  https://nhatot.com//mua-ban-dat-quan-lien-chie...\n",
       "3           3  https://nhatot.com//mua-ban-dat-quan-ngu-hanh-...\n",
       "4           4  https://nhatot.com//mua-ban-dat-quan-lien-chie..."
      ]
     },
     "execution_count": 4,
     "metadata": {},
     "output_type": "execute_result"
    }
   ],
   "source": [
    "frame = pd.read_csv('.\\\\raw data\\\\data_test\\\\link_nhatot_test.csv')\n",
    "frame.head()"
   ]
  },
  {
   "cell_type": "markdown",
   "metadata": {},
   "source": [
    "### Crawl data from each link"
   ]
  },
  {
   "cell_type": "code",
   "execution_count": 5,
   "metadata": {},
   "outputs": [],
   "source": [
    "Address,Price = [],[]\n",
    "Area, Price_m2, Direction =[], [], []\n",
    "Land_type =[] \n",
    "Width, Length = [], []\n"
   ]
  },
  {
   "cell_type": "code",
   "execution_count": 6,
   "metadata": {},
   "outputs": [],
   "source": [
    "crawl_flag = True\n",
    "def getdata(link):\n",
    "    global crawl_flag\n",
    "    session = HTMLSession()\n",
    "    driver = webdriver.Chrome()\n",
    "    driver.get(link)\n",
    "    # Chờ trang web tải hoàn thành trong 10 giây\n",
    "    time.sleep(1)\n",
    "    \n",
    "    # Kiểm tra xem trang web đã tải hoàn toàn hay chưa\n",
    "    if driver.page_source:\n",
    "        page_source = driver.page_source\n",
    "        soup = BeautifulSoup(page_source, 'html.parser')\n",
    "        \n",
    "        #Time\n",
    "        span_times = []\n",
    "        span_times = soup.find_all('div', {'class': 'AdDecriptionVeh_date__SpYR1'})\n",
    "        if span_times:\n",
    "            span_time = span_times[1].get_text(strip=True)\n",
    "            if '2 tuần trước' in span_time:\n",
    "                crawl_flag = False\n",
    "\n",
    "        if crawl_flag:\n",
    "             # Price\n",
    "            price_tag = soup.find('span', itemprop='price')\n",
    "            if price_tag:\n",
    "                price = price_tag.text.strip()\n",
    "            else:\n",
    "                price = \"NaN\"\n",
    "            Price.append(price)\n",
    "\n",
    "            #Address\n",
    "            span_address = soup.find('span', {'class': 'fz13'})\n",
    "            if span_address:\n",
    "                address = span_address.text.strip()\n",
    "            else:\n",
    "                address='NaN'\n",
    "            Address.append(address)\n",
    "            # Đóng trình duyệt sau khi hoàn thành\n",
    "\n",
    "\n",
    "            #Area\n",
    "            area_tag = soup.find('span', itemprop='size')\n",
    "            if area_tag:\n",
    "                area = area_tag.text.strip()\n",
    "            else:\n",
    "                area = \"NaN\"\n",
    "            Area.append(area)\n",
    "\n",
    "            #Price_m2\n",
    "            price_m2_tag = soup.find('span', itemprop='price_m2')\n",
    "            if price_m2_tag:\n",
    "                price_m2 = price_m2_tag.text.strip()\n",
    "            else:\n",
    "                price_m2 = \"NaN\"\n",
    "            Price_m2.append(price_m2)\n",
    "\n",
    "            #Direction\n",
    "            direction_tag = soup.find('span', itemprop='direction')\n",
    "            if direction_tag:\n",
    "                direction = direction_tag.text.strip()\n",
    "            else:\n",
    "                direction = \"NaN\"\n",
    "            Direction.append(direction)\n",
    "\n",
    "\n",
    "            #Land_type\n",
    "            land_type_tag = soup.find('span', itemprop='land_type')\n",
    "            if land_type_tag:\n",
    "                land_type= land_type_tag.text.strip()\n",
    "            else:\n",
    "                land_type = \"NaN\"\n",
    "            Land_type.append(land_type)\n",
    "\n",
    "            #Width\n",
    "            width_tag = soup.find('span', itemprop='width')\n",
    "            if width_tag:\n",
    "                width= width_tag.text.strip()\n",
    "            else:\n",
    "                width = \"NaN\"\n",
    "            Width.append(width)\n",
    "\n",
    "            #Length\n",
    "            length_tag = soup.find('span', itemprop='length')\n",
    "            if length_tag:\n",
    "                length = length_tag.text.strip()\n",
    "            else:\n",
    "                length = \"NaN\"\n",
    "            Length.append(length)\n",
    "    df = {'Gia': Price, 'Dia chi': Address, 'Dien tich': Area, 'Gia/m2': Price_m2, 'Huong dat':Direction,\n",
    "          'Loai hinh dat' :Land_type,\n",
    "          'Chieu ngang': Width, 'Chieu dai': Length\n",
    "        }\n",
    "    df = pd.DataFrame(df)\n",
    "    df.dropna(inplace=True)\n",
    "    df.to_csv('.\\\\raw data\\\\data_test\\\\raw_data_test.csv', encoding=\"utf-8-sig\",index=False)\n",
    "\n",
    "    driver.quit()\n",
    "\n",
    "# Thực hiện trích xuất dữ liệu từ mỗi liên kết trong dataframe\n",
    "for link in frame['links']:\n",
    "    if not crawl_flag:\n",
    "        break  # Nếu crawl_flag=False, thoát khỏi vòng lặp\n",
    "    data = getdata(link)"
   ]
  },
  {
   "cell_type": "markdown",
   "metadata": {},
   "source": [
    "- **Gia**: giá bán của đất nền\n",
    "\n",
    "- **Dia chi**: địa chỉ của đất nền ở thành phố Đà Nẵng\n",
    "\n",
    "- **Dien tich**: diện tích của đất nền\n",
    "\n",
    "- **Gia/m2**: giá bán trung bình mỗi mét vuông của đất nền\n",
    "\n",
    "- **Huong dat**: hướng của đất nền\n",
    "\n",
    "- **Loai hinh dat**: Phân loại đất nền dựa trên việc sử dụng đất và các điều kiện liên quan đến pháp lý, quy hoạch và mục đích sử dụng\n",
    "\n",
    "- **Chieu ngang**: chiều ngang(mặt tiền) của đất nền\n",
    "\n",
    "- **Chieu dai**: chiều dài của đất nền"
   ]
  }
 ],
 "metadata": {
  "kernelspec": {
   "display_name": "Python 3",
   "language": "python",
   "name": "python3"
  },
  "language_info": {
   "codemirror_mode": {
    "name": "ipython",
    "version": 3
   },
   "file_extension": ".py",
   "mimetype": "text/x-python",
   "name": "python",
   "nbconvert_exporter": "python",
   "pygments_lexer": "ipython3",
   "version": "3.11.9"
  }
 },
 "nbformat": 4,
 "nbformat_minor": 2
}
