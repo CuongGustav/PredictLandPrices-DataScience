{
 "cells": [
  {
   "cell_type": "markdown",
   "metadata": {},
   "source": [
    "### import library"
   ]
  },
  {
   "cell_type": "code",
   "execution_count": 1,
   "metadata": {},
   "outputs": [],
   "source": [
    "import requests\n",
    "import datetime\n",
    "import re\n",
    "import pandas as pd \n",
    "import numpy as np\n",
    "from requests_html import HTML\n",
    "from requests_html import HTMLSession\n",
    "from bs4 import BeautifulSoup"
   ]
  },
  {
   "cell_type": "markdown",
   "metadata": {},
   "source": [
    "### Crawl link from nhadat24h.vn"
   ]
  },
  {
   "cell_type": "code",
   "execution_count": 2,
   "metadata": {},
   "outputs": [],
   "source": [
    "arr = []\n",
    "try:\n",
    "    for page in range(38):\n",
    "        page= str(page+1)\n",
    "        link =\"https://nhadat24h.net/ban-dat-nen-du-an-da-nang/page\"+page\n",
    "        arr.append(link)\n",
    "    df = pd.DataFrame(arr,columns=['links'])\n",
    "except KeyboardInterrupt:\n",
    "    pass  # Xử lý ngoại lệ khi người dùng gián đoạn chương trình\n",
    "finally:\n",
    "    df = pd.DataFrame(arr, columns=['links'])\n"
   ]
  },
  {
   "cell_type": "markdown",
   "metadata": {},
   "source": [
    "### Export file csv"
   ]
  },
  {
   "cell_type": "code",
   "execution_count": 3,
   "metadata": {},
   "outputs": [
    {
     "name": "stdout",
     "output_type": "stream",
     "text": [
      "hoàn thành\n"
     ]
    }
   ],
   "source": [
    "df.to_csv('nhadat24h.csv', index=True)\n",
    "print(\"hoàn thành\")"
   ]
  },
  {
   "cell_type": "markdown",
   "metadata": {},
   "source": [
    "### View a head of file nhadat24h.csv"
   ]
  },
  {
   "cell_type": "code",
   "execution_count": 4,
   "metadata": {},
   "outputs": [
    {
     "data": {
      "text/html": [
       "<div>\n",
       "<style scoped>\n",
       "    .dataframe tbody tr th:only-of-type {\n",
       "        vertical-align: middle;\n",
       "    }\n",
       "\n",
       "    .dataframe tbody tr th {\n",
       "        vertical-align: top;\n",
       "    }\n",
       "\n",
       "    .dataframe thead th {\n",
       "        text-align: right;\n",
       "    }\n",
       "</style>\n",
       "<table border=\"1\" class=\"dataframe\">\n",
       "  <thead>\n",
       "    <tr style=\"text-align: right;\">\n",
       "      <th></th>\n",
       "      <th>Unnamed: 0</th>\n",
       "      <th>links</th>\n",
       "    </tr>\n",
       "  </thead>\n",
       "  <tbody>\n",
       "    <tr>\n",
       "      <th>0</th>\n",
       "      <td>0</td>\n",
       "      <td>https://nhadat24h.net/ban-dat-nen-du-an-da-nan...</td>\n",
       "    </tr>\n",
       "    <tr>\n",
       "      <th>1</th>\n",
       "      <td>1</td>\n",
       "      <td>https://nhadat24h.net/ban-dat-nen-du-an-da-nan...</td>\n",
       "    </tr>\n",
       "    <tr>\n",
       "      <th>2</th>\n",
       "      <td>2</td>\n",
       "      <td>https://nhadat24h.net/ban-dat-nen-du-an-da-nan...</td>\n",
       "    </tr>\n",
       "    <tr>\n",
       "      <th>3</th>\n",
       "      <td>3</td>\n",
       "      <td>https://nhadat24h.net/ban-dat-nen-du-an-da-nan...</td>\n",
       "    </tr>\n",
       "    <tr>\n",
       "      <th>4</th>\n",
       "      <td>4</td>\n",
       "      <td>https://nhadat24h.net/ban-dat-nen-du-an-da-nan...</td>\n",
       "    </tr>\n",
       "  </tbody>\n",
       "</table>\n",
       "</div>"
      ],
      "text/plain": [
       "   Unnamed: 0                                              links\n",
       "0           0  https://nhadat24h.net/ban-dat-nen-du-an-da-nan...\n",
       "1           1  https://nhadat24h.net/ban-dat-nen-du-an-da-nan...\n",
       "2           2  https://nhadat24h.net/ban-dat-nen-du-an-da-nan...\n",
       "3           3  https://nhadat24h.net/ban-dat-nen-du-an-da-nan...\n",
       "4           4  https://nhadat24h.net/ban-dat-nen-du-an-da-nan..."
      ]
     },
     "execution_count": 4,
     "metadata": {},
     "output_type": "execute_result"
    }
   ],
   "source": [
    "frame = pd.read_csv('nhadat24h.csv')\n",
    "frame.head()"
   ]
  },
  {
   "cell_type": "markdown",
   "metadata": {},
   "source": [
    "### Crawl data from each link"
   ]
  },
  {
   "cell_type": "code",
   "execution_count": 8,
   "metadata": {},
   "outputs": [],
   "source": [
    "Price, Area = [],[]\n",
    "Address, Way_in, Width, Direction =[], [], [], []\n",
    "Land_type = []\n"
   ]
  },
  {
   "cell_type": "code",
   "execution_count": 9,
   "metadata": {},
   "outputs": [],
   "source": [
    "def getdata(link):\n",
    "    session = HTMLSession()\n",
    "    response = session.get(link)\n",
    "    # soup = BeautifulSoup(response.text,'html.parser')\n",
    "\n",
    "    \n",
    "    if response.status_code == 200:\n",
    "        soup = BeautifulSoup(response.content, 'html.parser')\n",
    "        #lấy tất cả các thẻ a có trong 1 page\n",
    "        a_tags = soup.find_all('div', class_='dv-item')\n",
    "\n",
    "        for a_tag in a_tags:\n",
    "\n",
    "            #Price\n",
    "            price_tag = a_tag.find('label', class_='a-txt-cl1')\n",
    "            if price_tag:\n",
    "                price = price_tag.text.strip()\n",
    "            else:\n",
    "                price = \"NaN\"   \n",
    "            Price.append(price)\n",
    "\n",
    "\n",
    "            #Area\n",
    "            area_tag = a_tag.find('label', class_='a-txt-cl2')\n",
    "            if area_tag:\n",
    "                area = area_tag.text.strip()\n",
    "            else:\n",
    "                area = \"NaN\"\n",
    "            Area.append(area)\n",
    "\n",
    "\n",
    "            #Address\n",
    "            address_tag = a_tag.find('label', class_='rvVitri')\n",
    "            if address_tag:\n",
    "                address = address_tag.text.strip()\n",
    "            else:\n",
    "                address =\"NaN\"\n",
    "            Address.append(address)\n",
    "\n",
    "\n",
    "            #Way_in\n",
    "            way_in_tags = a_tag.find_all(lambda tag: tag.name == 'span' and tag.find('i', class_='fas fa-road'))\n",
    "            way_ins = []\n",
    "            if way_in_tags:\n",
    "                for way_in_tag in way_in_tags:\n",
    "                    way_in_text = way_in_tag.text.strip()\n",
    "                    if \"Đường vào\" in way_in_text:\n",
    "                        way_ins.append(way_in_text)\n",
    "            way_in = ', '.join(way_ins) if way_ins else \"NaN\"\n",
    "            Way_in.append(way_in)\n",
    "\n",
    "\n",
    "            #Width\n",
    "            width_tags = a_tag.find_all(lambda tag: tag.name == 'span' and tag.find('i', class_='fa-arrows-alt'))\n",
    "            widths = []\n",
    "            if width_tags:\n",
    "                for width_tag in width_tags:\n",
    "                    width_text = width_tag.text.strip()\n",
    "                    if \"Mặt tiền\" in width_text:\n",
    "                        widths.append(width_text)\n",
    "            width = ', '.join(widths) if widths else \"NaN\"\n",
    "            Width.append(width)\n",
    "\n",
    "    \n",
    "            #Direction\n",
    "            direction_tags = a_tag.find_all(lambda tag: tag.name == 'span' and tag.find('i', class_='fas fa-compass'))\n",
    "            directions = []\n",
    "            if direction_tags:\n",
    "                for direction_tag in direction_tags:\n",
    "                    direction = direction_tag.text.strip()\n",
    "                    directions.append(direction)\n",
    "                direction = ', '.join(directions)\n",
    "            else:\n",
    "                direction = \"NaN\"\n",
    "            Direction.append(direction)\n",
    "\n",
    "\n",
    "            #Land_type\n",
    "            div_land_type_tag = soup.find('div', class_='review1')\n",
    "            if div_land_type_tag:\n",
    "                land_type_tags = div_land_type_tag.find_all('span', class_='ex3')\n",
    "                if land_type_tags:\n",
    "                    land_type = land_type_tags[0].text.strip()\n",
    "                else:\n",
    "                    land_type = \"NaN\"\n",
    "            else:\n",
    "                land_type = \"NaN\"\n",
    "            Land_type.append(land_type)\n",
    "\n",
    "    df = pd.DataFrame({ \n",
    "                        'Gia': Price, 'Dien tich': Area, \n",
    "                        'Dia chi': Address,  \n",
    "                        'Duong vao':Way_in, \n",
    "                        'Chieu ngang': Width,\n",
    "                        'Huong nha':Direction, 'Loai hinh dat' :Land_type\n",
    "                    })\n",
    "    df = pd.DataFrame(df)\n",
    "    df.to_csv('data_crawl_nhadat24h.csv', encoding=\"utf-8-sig\", index=False)\n",
    "\n",
    "# Thực hiện trích xuất dữ liệu từ mỗi liên kết trong dataframe\n",
    "for link in frame['links']:\n",
    "    data = getdata(link)"
   ]
  }
 ],
 "metadata": {
  "kernelspec": {
   "display_name": "Python 3",
   "language": "python",
   "name": "python3"
  },
  "language_info": {
   "codemirror_mode": {
    "name": "ipython",
    "version": 3
   },
   "file_extension": ".py",
   "mimetype": "text/x-python",
   "name": "python",
   "nbconvert_exporter": "python",
   "pygments_lexer": "ipython3",
   "version": "3.11.9"
  }
 },
 "nbformat": 4,
 "nbformat_minor": 2
}
