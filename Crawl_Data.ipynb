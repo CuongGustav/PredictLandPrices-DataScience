{
 "cells": [
  {
   "cell_type": "markdown",
   "metadata": {},
   "source": [
    "# Nhóm hướng đến bài toán dự đoán giá đất nền ở thành phố Đà nẵng"
   ]
  },
  {
   "cell_type": "markdown",
   "metadata": {},
   "source": [
    "### Import library"
   ]
  },
  {
   "cell_type": "code",
   "execution_count": 1,
   "metadata": {},
   "outputs": [],
   "source": [
    "import pandas  as pd\n",
    "import numpy as np\n",
    "import matplotlib.pyplot as plt\n",
    "import seaborn as sns\n",
    "import re\n",
    "from requests_html import HTML\n",
    "from requests_html import HTMLSession\n",
    "from selenium import webdriver\n",
    "from selenium.webdriver.chrome.service import Service\n",
    "from selenium.webdriver.common.by import By\n",
    "from bs4 import BeautifulSoup\n",
    "import time"
   ]
  },
  {
   "cell_type": "markdown",
   "metadata": {},
   "source": [
    "### Crawl link from nhatot.vn"
   ]
  },
  {
   "cell_type": "code",
   "execution_count": 2,
   "metadata": {},
   "outputs": [],
   "source": [
    "arr = []\n",
    "\n",
    "try:\n",
    "    for page in range(140): #140\n",
    "        page= str(page+1)\n",
    "        link =\"https://www.nhatot.com/mua-ban-dat-da-nang?page=\"+page\n",
    "        session = HTMLSession()\n",
    "        r = session.get(link)\n",
    "        soup = BeautifulSoup(r.text,'html.parser')\n",
    "        a = soup.find_all(\"a\",class_='AdItem_adItem__gDDQT')\n",
    "        for i in range(len(a)):\n",
    "            link =\"https://nhatot.com/\"+a[i]['href']\n",
    "            arr.append(link)\n",
    "    df = pd.DataFrame(arr,columns=['links'])\n",
    "except KeyboardInterrupt:\n",
    "    pass  # Xử lý ngoại lệ khi người dùng gián đoạn chương trình\n",
    "finally:\n",
    "    df = pd.DataFrame(arr, columns=['links'])"
   ]
  },
  {
   "cell_type": "markdown",
   "metadata": {},
   "source": [
    "### Export file link_nhatot.csv"
   ]
  },
  {
   "cell_type": "code",
   "execution_count": 3,
   "metadata": {},
   "outputs": [
    {
     "name": "stdout",
     "output_type": "stream",
     "text": [
      "hoàn thành\n"
     ]
    }
   ],
   "source": [
    "df.to_csv('.\\\\raw data\\\\link_nhatot.csv', index=True)\n",
    "print(\"hoàn thành\")"
   ]
  },
  {
   "cell_type": "markdown",
   "metadata": {},
   "source": [
    "### View a head of file nhatot.csv"
   ]
  },
  {
   "cell_type": "code",
   "execution_count": 2,
   "metadata": {},
   "outputs": [
    {
     "data": {
      "text/html": [
       "<div>\n",
       "<style scoped>\n",
       "    .dataframe tbody tr th:only-of-type {\n",
       "        vertical-align: middle;\n",
       "    }\n",
       "\n",
       "    .dataframe tbody tr th {\n",
       "        vertical-align: top;\n",
       "    }\n",
       "\n",
       "    .dataframe thead th {\n",
       "        text-align: right;\n",
       "    }\n",
       "</style>\n",
       "<table border=\"1\" class=\"dataframe\">\n",
       "  <thead>\n",
       "    <tr style=\"text-align: right;\">\n",
       "      <th></th>\n",
       "      <th>Unnamed: 0</th>\n",
       "      <th>links</th>\n",
       "    </tr>\n",
       "  </thead>\n",
       "  <tbody>\n",
       "    <tr>\n",
       "      <th>0</th>\n",
       "      <td>0</td>\n",
       "      <td>https://nhatot.com//mua-ban-dat-quan-ngu-hanh-...</td>\n",
       "    </tr>\n",
       "    <tr>\n",
       "      <th>1</th>\n",
       "      <td>1</td>\n",
       "      <td>https://nhatot.com//mua-ban-dat-quan-son-tra-d...</td>\n",
       "    </tr>\n",
       "    <tr>\n",
       "      <th>2</th>\n",
       "      <td>2</td>\n",
       "      <td>https://nhatot.com//mua-ban-dat-quan-son-tra-d...</td>\n",
       "    </tr>\n",
       "    <tr>\n",
       "      <th>3</th>\n",
       "      <td>3</td>\n",
       "      <td>https://nhatot.com//mua-ban-dat-quan-lien-chie...</td>\n",
       "    </tr>\n",
       "    <tr>\n",
       "      <th>4</th>\n",
       "      <td>4</td>\n",
       "      <td>https://nhatot.com//mua-ban-dat-quan-lien-chie...</td>\n",
       "    </tr>\n",
       "  </tbody>\n",
       "</table>\n",
       "</div>"
      ],
      "text/plain": [
       "   Unnamed: 0                                              links\n",
       "0           0  https://nhatot.com//mua-ban-dat-quan-ngu-hanh-...\n",
       "1           1  https://nhatot.com//mua-ban-dat-quan-son-tra-d...\n",
       "2           2  https://nhatot.com//mua-ban-dat-quan-son-tra-d...\n",
       "3           3  https://nhatot.com//mua-ban-dat-quan-lien-chie...\n",
       "4           4  https://nhatot.com//mua-ban-dat-quan-lien-chie..."
      ]
     },
     "execution_count": 2,
     "metadata": {},
     "output_type": "execute_result"
    }
   ],
   "source": [
    "frame = pd.read_csv('.\\\\raw data\\\\link_nhatot.csv')\n",
    "frame.head()"
   ]
  },
  {
   "cell_type": "markdown",
   "metadata": {},
   "source": [
    "### Crawl data from each link"
   ]
  },
  {
   "cell_type": "code",
   "execution_count": 5,
   "metadata": {},
   "outputs": [],
   "source": [
    "Address,Price = [],[]\n",
    "Area, Price_m2, Direction =[], [], []\n",
    "Land_type =[] \n",
    "Width, Length = [], []\n"
   ]
  },
  {
   "cell_type": "code",
   "execution_count": null,
   "metadata": {},
   "outputs": [],
   "source": [
    "def getdata(link):\n",
    "    session = HTMLSession()\n",
    "    driver = webdriver.Chrome()\n",
    "    driver.get(link)\n",
    "    # Chờ trang web tải hoàn thành trong 10 giây\n",
    "    time.sleep(1)\n",
    "    \n",
    "    # Kiểm tra xem trang web đã tải hoàn toàn hay chưa\n",
    "    if driver.page_source:\n",
    "        page_source = driver.page_source\n",
    "        soup = BeautifulSoup(page_source, 'html.parser')\n",
    "        \n",
    "        # Price\n",
    "        price_tag = soup.find('span', itemprop='price')\n",
    "        if price_tag:\n",
    "            price = price_tag.text.strip()\n",
    "        else:\n",
    "            price = \"NaN\"\n",
    "        Price.append(price)\n",
    "\n",
    "        #Address\n",
    "        span_address = soup.find('span', {'class': 'fz13'})\n",
    "        if span_address:\n",
    "            address = span_address.text.strip()\n",
    "        else:\n",
    "            address='NaN'\n",
    "        Address.append(address)\n",
    "        # Đóng trình duyệt sau khi hoàn thành\n",
    "\n",
    "\n",
    "        #Area\n",
    "        area_tag = soup.find('span', itemprop='size')\n",
    "        if area_tag:\n",
    "            area = area_tag.text.strip()\n",
    "        else:\n",
    "            area = \"NaN\"\n",
    "        Area.append(area)\n",
    "\n",
    "        #Price_m2\n",
    "        price_m2_tag = soup.find('span', itemprop='price_m2')\n",
    "        if price_m2_tag:\n",
    "            price_m2 = price_m2_tag.text.strip()\n",
    "        else:\n",
    "            price_m2 = \"NaN\"\n",
    "        Price_m2.append(price_m2)\n",
    "\n",
    "        #Direction\n",
    "        direction_tag = soup.find('span', itemprop='direction')\n",
    "        if direction_tag:\n",
    "            direction = direction_tag.text.strip()\n",
    "        else:\n",
    "            direction = \"NaN\"\n",
    "        Direction.append(direction)\n",
    "\n",
    "\n",
    "        #Land_type\n",
    "        land_type_tag = soup.find('span', itemprop='land_type')\n",
    "        if land_type_tag:\n",
    "            land_type= land_type_tag.text.strip()\n",
    "        else:\n",
    "            land_type = \"NaN\"\n",
    "        Land_type.append(land_type)\n",
    "\n",
    "        #Width\n",
    "        width_tag = soup.find('span', itemprop='width')\n",
    "        if width_tag:\n",
    "            width= width_tag.text.strip()\n",
    "        else:\n",
    "            width = \"NaN\"\n",
    "        Width.append(width)\n",
    "\n",
    "        #Length\n",
    "        length_tag = soup.find('span', itemprop='length')\n",
    "        if length_tag:\n",
    "            length = length_tag.text.strip()\n",
    "        else:\n",
    "            length = \"NaN\"\n",
    "        Length.append(length)\n",
    "\n",
    "    df = {'Gia': Price, 'Dia chi': Address, 'Dien tich': Area, 'Gia/m2': Price_m2, 'Huong dat':Direction,\n",
    "          'Loai hinh dat' :Land_type,\n",
    "          'Chieu ngang': Width, 'Chieu dai': Length\n",
    "        }\n",
    "    df = pd.DataFrame(df)\n",
    "    df.dropna(inplace=True)\n",
    "    df.to_csv('.\\\\raw data\\\\data_crawl_nhatot.csv', encoding=\"utf-8-sig\",index=False)\n",
    "\n",
    "    driver.quit()\n",
    "\n",
    "# Thực hiện trích xuất dữ liệu từ mỗi liên kết trong dataframe\n",
    "for link in frame['links']:\n",
    "    data = getdata(link)\n"
   ]
  },
  {
   "cell_type": "markdown",
   "metadata": {},
   "source": [
    "### Crawl link from nhadat24h.vn"
   ]
  },
  {
   "cell_type": "code",
   "execution_count": null,
   "metadata": {},
   "outputs": [],
   "source": [
    "arr = []\n",
    "try:\n",
    "    for page in range(38):\n",
    "        page= str(page+1)\n",
    "        link =\"https://nhadat24h.net/ban-dat-nen-du-an-da-nang/page\"+page\n",
    "        arr.append(link)\n",
    "    df = pd.DataFrame(arr,columns=['links'])\n",
    "except KeyboardInterrupt:\n",
    "    pass  # Xử lý ngoại lệ khi người dùng gián đoạn chương trình\n",
    "finally:\n",
    "    df = pd.DataFrame(arr, columns=['links'])\n"
   ]
  },
  {
   "cell_type": "markdown",
   "metadata": {},
   "source": [
    "### Export file link_nhadat24h.csv"
   ]
  },
  {
   "cell_type": "code",
   "execution_count": null,
   "metadata": {},
   "outputs": [],
   "source": [
    "df.to_csv('.\\\\raw data\\\\link_nhadat24h.csv', index=True)\n",
    "print(\"hoàn thành\")"
   ]
  },
  {
   "cell_type": "markdown",
   "metadata": {},
   "source": [
    "### View a head of file link_nhadat24h.csv"
   ]
  },
  {
   "cell_type": "code",
   "execution_count": 3,
   "metadata": {},
   "outputs": [
    {
     "data": {
      "text/html": [
       "<div>\n",
       "<style scoped>\n",
       "    .dataframe tbody tr th:only-of-type {\n",
       "        vertical-align: middle;\n",
       "    }\n",
       "\n",
       "    .dataframe tbody tr th {\n",
       "        vertical-align: top;\n",
       "    }\n",
       "\n",
       "    .dataframe thead th {\n",
       "        text-align: right;\n",
       "    }\n",
       "</style>\n",
       "<table border=\"1\" class=\"dataframe\">\n",
       "  <thead>\n",
       "    <tr style=\"text-align: right;\">\n",
       "      <th></th>\n",
       "      <th>Unnamed: 0</th>\n",
       "      <th>links</th>\n",
       "    </tr>\n",
       "  </thead>\n",
       "  <tbody>\n",
       "    <tr>\n",
       "      <th>0</th>\n",
       "      <td>0</td>\n",
       "      <td>https://nhadat24h.net/ban-dat-nen-du-an-da-nan...</td>\n",
       "    </tr>\n",
       "    <tr>\n",
       "      <th>1</th>\n",
       "      <td>1</td>\n",
       "      <td>https://nhadat24h.net/ban-dat-nen-du-an-da-nan...</td>\n",
       "    </tr>\n",
       "    <tr>\n",
       "      <th>2</th>\n",
       "      <td>2</td>\n",
       "      <td>https://nhadat24h.net/ban-dat-nen-du-an-da-nan...</td>\n",
       "    </tr>\n",
       "    <tr>\n",
       "      <th>3</th>\n",
       "      <td>3</td>\n",
       "      <td>https://nhadat24h.net/ban-dat-nen-du-an-da-nan...</td>\n",
       "    </tr>\n",
       "    <tr>\n",
       "      <th>4</th>\n",
       "      <td>4</td>\n",
       "      <td>https://nhadat24h.net/ban-dat-nen-du-an-da-nan...</td>\n",
       "    </tr>\n",
       "  </tbody>\n",
       "</table>\n",
       "</div>"
      ],
      "text/plain": [
       "   Unnamed: 0                                              links\n",
       "0           0  https://nhadat24h.net/ban-dat-nen-du-an-da-nan...\n",
       "1           1  https://nhadat24h.net/ban-dat-nen-du-an-da-nan...\n",
       "2           2  https://nhadat24h.net/ban-dat-nen-du-an-da-nan...\n",
       "3           3  https://nhadat24h.net/ban-dat-nen-du-an-da-nan...\n",
       "4           4  https://nhadat24h.net/ban-dat-nen-du-an-da-nan..."
      ]
     },
     "execution_count": 3,
     "metadata": {},
     "output_type": "execute_result"
    }
   ],
   "source": [
    "frame = pd.read_csv('.\\\\raw data\\\\link_nhadat24h.csv')\n",
    "frame.head()"
   ]
  },
  {
   "cell_type": "markdown",
   "metadata": {},
   "source": [
    "### Crawl data from each link"
   ]
  },
  {
   "cell_type": "code",
   "execution_count": null,
   "metadata": {},
   "outputs": [],
   "source": [
    "Price, Area = [],[]\n",
    "Address, Way_in, Width, Direction =[], [], [], []\n",
    "Land_type = []"
   ]
  },
  {
   "cell_type": "code",
   "execution_count": null,
   "metadata": {},
   "outputs": [],
   "source": [
    "def getdata(link):\n",
    "    session = HTMLSession()\n",
    "    response = session.get(link)\n",
    "    # soup = BeautifulSoup(response.text,'html.parser')\n",
    "\n",
    "    \n",
    "    if response.status_code == 200:\n",
    "        soup = BeautifulSoup(response.content, 'html.parser')\n",
    "        #lấy tất cả các thẻ a có trong 1 page\n",
    "        a_tags = soup.find_all('div', class_='dv-item')\n",
    "\n",
    "        for a_tag in a_tags:\n",
    "\n",
    "            #Price\n",
    "            price_tag = a_tag.find('label', class_='a-txt-cl1')\n",
    "            if price_tag:\n",
    "                price = price_tag.text.strip()\n",
    "            else:\n",
    "                price = \"NaN\"   \n",
    "            Price.append(price)\n",
    "\n",
    "\n",
    "            #Area\n",
    "            area_tag = a_tag.find('label', class_='a-txt-cl2')\n",
    "            if area_tag:\n",
    "                area = area_tag.text.strip()\n",
    "            else:\n",
    "                area = \"NaN\"\n",
    "            Area.append(area)\n",
    "\n",
    "\n",
    "            #Address\n",
    "            address_tag = a_tag.find('label', class_='rvVitri')\n",
    "            if address_tag:\n",
    "                address = address_tag.text.strip()\n",
    "            else:\n",
    "                address =\"NaN\"\n",
    "            Address.append(address)\n",
    "\n",
    "            #Width\n",
    "            width_tags = a_tag.find_all(lambda tag: tag.name == 'span' and tag.find('i', class_='fa-arrows-alt'))\n",
    "            widths = []\n",
    "            if width_tags:\n",
    "                for width_tag in width_tags:\n",
    "                    width_text = width_tag.text.strip()\n",
    "                    if \"Mặt tiền\" in width_text:\n",
    "                        widths.append(width_text)\n",
    "            width = ', '.join(widths) if widths else \"NaN\"\n",
    "            Width.append(width)\n",
    "\n",
    "    \n",
    "            #Direction\n",
    "            direction_tags = a_tag.find_all(lambda tag: tag.name == 'span' and tag.find('i', class_='fas fa-compass'))\n",
    "            directions = []\n",
    "            if direction_tags:\n",
    "                for direction_tag in direction_tags:\n",
    "                    direction = direction_tag.text.strip()\n",
    "                    directions.append(direction)\n",
    "                direction = ', '.join(directions)\n",
    "            else:\n",
    "                direction = \"NaN\"\n",
    "            Direction.append(direction)\n",
    "\n",
    "\n",
    "            #Land_type\n",
    "            div_land_type_tag = soup.find('div', class_='review1')\n",
    "            if div_land_type_tag:\n",
    "                land_type_tags = div_land_type_tag.find_all('span', class_='ex3')\n",
    "                if land_type_tags:\n",
    "                    land_type = land_type_tags[0].text.strip()\n",
    "                else:\n",
    "                    land_type = \"NaN\"\n",
    "            else:\n",
    "                land_type = \"NaN\"\n",
    "            Land_type.append(land_type)\n",
    "\n",
    "    df = pd.DataFrame({ \n",
    "                        'Gia': Price, 'Dien tich': Area, \n",
    "                        'Dia chi': Address,  \n",
    "                        'Chieu ngang': Width,\n",
    "                        'Huong dat':Direction, 'Loai hinh dat' :Land_type\n",
    "                    })\n",
    "    df = pd.DataFrame(df)\n",
    "    df.to_csv('.\\\\raw data\\\\data_crawl_nhadat24h.csv', encoding=\"utf-8-sig\", index=False)\n",
    "\n",
    "# Thực hiện trích xuất dữ liệu từ mỗi liên kết trong dataframe\n",
    "for link in frame['links']:\n",
    "    data = getdata(link)"
   ]
  },
  {
   "cell_type": "markdown",
   "metadata": {},
   "source": [
    "### Merge file csv"
   ]
  },
  {
   "cell_type": "code",
   "execution_count": 137,
   "metadata": {},
   "outputs": [],
   "source": [
    "a = pd.read_csv(\"raw data\\data_crawl_nhatot.csv\")\n",
    "\n",
    "# Read the second CSV file\n",
    "b = pd.read_csv(\"raw data\\data_crawl_nhadat24h.csv\")\n",
    "\n",
    "# Concatenate the two dataframes along the rows with an outer join\n",
    "merged_data = pd.concat([a, b], ignore_index=True, join='outer')\n",
    "\n",
    "# Reset index\n",
    "merged_data.reset_index(drop=True, inplace=True)\n",
    "\n",
    "# Lưu merged_data vào file CSV mới\n",
    "merged_data.to_csv(\".\\\\raw data\\\\data_crawl.csv\",encoding=\"utf-8-sig\", index=False)"
   ]
  },
  {
   "cell_type": "markdown",
   "metadata": {},
   "source": [
    "### View a head of file data_crawl.csv"
   ]
  },
  {
   "cell_type": "code",
   "execution_count": 2,
   "metadata": {},
   "outputs": [
    {
     "name": "stdout",
     "output_type": "stream",
     "text": [
      "Data crawl có 2265 hàng và 8 cột.\n"
     ]
    }
   ],
   "source": [
    "frame = pd.read_csv('raw data\\\\data_crawl.csv')\n",
    "num_rows, num_cols = frame.shape\n",
    "print(f\"Data crawl có {num_rows} hàng và {num_cols} cột.\")\n"
   ]
  },
  {
   "cell_type": "code",
   "execution_count": 3,
   "metadata": {},
   "outputs": [
    {
     "data": {
      "text/html": [
       "<div>\n",
       "<style scoped>\n",
       "    .dataframe tbody tr th:only-of-type {\n",
       "        vertical-align: middle;\n",
       "    }\n",
       "\n",
       "    .dataframe tbody tr th {\n",
       "        vertical-align: top;\n",
       "    }\n",
       "\n",
       "    .dataframe thead th {\n",
       "        text-align: right;\n",
       "    }\n",
       "</style>\n",
       "<table border=\"1\" class=\"dataframe\">\n",
       "  <thead>\n",
       "    <tr style=\"text-align: right;\">\n",
       "      <th></th>\n",
       "      <th>Gia</th>\n",
       "      <th>Dia chi</th>\n",
       "      <th>Dien tich</th>\n",
       "      <th>Gia/m2</th>\n",
       "      <th>Huong dat</th>\n",
       "      <th>Loai hinh dat</th>\n",
       "      <th>Chieu ngang</th>\n",
       "      <th>Chieu dai</th>\n",
       "    </tr>\n",
       "  </thead>\n",
       "  <tbody>\n",
       "    <tr>\n",
       "      <th>0</th>\n",
       "      <td>3,15 tỷ - 100 m2</td>\n",
       "      <td>Lô 46 B2.96, Hói Kiểng 30, Phường Hoà Quý, Quậ...</td>\n",
       "      <td>100 m²</td>\n",
       "      <td>31,5 triệu/m²</td>\n",
       "      <td>Tây Bắc</td>\n",
       "      <td>Đất nền dự án</td>\n",
       "      <td>5 m</td>\n",
       "      <td>NaN</td>\n",
       "    </tr>\n",
       "    <tr>\n",
       "      <th>1</th>\n",
       "      <td>5,2 tỷ - 75 m2</td>\n",
       "      <td>Đường Trần Thanh Mại, Phường An Hải Bắc, Quận ...</td>\n",
       "      <td>75 m²</td>\n",
       "      <td>69,33 triệu/m²</td>\n",
       "      <td>NaN</td>\n",
       "      <td>Đất thổ cư</td>\n",
       "      <td>NaN</td>\n",
       "      <td>NaN</td>\n",
       "    </tr>\n",
       "    <tr>\n",
       "      <th>2</th>\n",
       "      <td>2,5 tỷ - 79 m2</td>\n",
       "      <td>Ngô Quyền, Phường Mân Thái, Quận Sơn Trà, Đà N...</td>\n",
       "      <td>79 m²</td>\n",
       "      <td>31,65 triệu/m²</td>\n",
       "      <td>Đông Nam</td>\n",
       "      <td>Đất thổ cư</td>\n",
       "      <td>6 m</td>\n",
       "      <td>14 m</td>\n",
       "    </tr>\n",
       "    <tr>\n",
       "      <th>3</th>\n",
       "      <td>2,1 tỷ - 125 m2</td>\n",
       "      <td>13, Đường Lạc Long Quân, Phường Hòa Khánh Bắc,...</td>\n",
       "      <td>125 m²</td>\n",
       "      <td>16,8 triệu/m²</td>\n",
       "      <td>Đông Bắc</td>\n",
       "      <td>Đất thổ cư</td>\n",
       "      <td>4.1999 m</td>\n",
       "      <td>31 m</td>\n",
       "    </tr>\n",
       "    <tr>\n",
       "      <th>4</th>\n",
       "      <td>6,2 tỷ - 92 m2</td>\n",
       "      <td>68, Đường Hòa Minh 8, Phường Hòa Minh, Quận Li...</td>\n",
       "      <td>92 m²</td>\n",
       "      <td>67,39 triệu/m²</td>\n",
       "      <td>Tây Nam</td>\n",
       "      <td>Đất thổ cư</td>\n",
       "      <td>4 m</td>\n",
       "      <td>21 m</td>\n",
       "    </tr>\n",
       "  </tbody>\n",
       "</table>\n",
       "</div>"
      ],
      "text/plain": [
       "                Gia                                            Dia chi  \\\n",
       "0  3,15 tỷ - 100 m2  Lô 46 B2.96, Hói Kiểng 30, Phường Hoà Quý, Quậ...   \n",
       "1    5,2 tỷ - 75 m2  Đường Trần Thanh Mại, Phường An Hải Bắc, Quận ...   \n",
       "2    2,5 tỷ - 79 m2  Ngô Quyền, Phường Mân Thái, Quận Sơn Trà, Đà N...   \n",
       "3   2,1 tỷ - 125 m2  13, Đường Lạc Long Quân, Phường Hòa Khánh Bắc,...   \n",
       "4    6,2 tỷ - 92 m2  68, Đường Hòa Minh 8, Phường Hòa Minh, Quận Li...   \n",
       "\n",
       "  Dien tich          Gia/m2 Huong dat  Loai hinh dat Chieu ngang Chieu dai  \n",
       "0    100 m²   31,5 triệu/m²   Tây Bắc  Đất nền dự án         5 m       NaN  \n",
       "1     75 m²  69,33 triệu/m²       NaN     Đất thổ cư         NaN       NaN  \n",
       "2     79 m²  31,65 triệu/m²  Đông Nam     Đất thổ cư         6 m      14 m  \n",
       "3    125 m²   16,8 triệu/m²  Đông Bắc     Đất thổ cư    4.1999 m      31 m  \n",
       "4     92 m²  67,39 triệu/m²   Tây Nam     Đất thổ cư         4 m      21 m  "
      ]
     },
     "execution_count": 3,
     "metadata": {},
     "output_type": "execute_result"
    }
   ],
   "source": [
    "frame = pd.read_csv('raw data\\\\data_crawl.csv')\n",
    "frame.head()"
   ]
  },
  {
   "cell_type": "markdown",
   "metadata": {},
   "source": [
    "- **Gia**: giá bán của đất nền\n",
    "\n",
    "- **Dia chi**: địa chỉ của đất nền ở thành phố Đà Nẵng\n",
    "\n",
    "- **Dien tich**: diện tích của đất nền\n",
    "\n",
    "- **Gia/m2**: giá bán trung bình mỗi mét vuông của đất nền\n",
    "\n",
    "- **Huong dat**: hướng của đất nền\n",
    "\n",
    "- **Loai hinh dat**: Phân loại đất nền dựa trên việc sử dụng đất và các điều kiện liên quan đến pháp lý, quy hoạch và mục đích sử dụng\n",
    "\n",
    "- **Chieu ngang**: chiều ngang(mặt tiền) của đất nền\n",
    "\n",
    "- **Chieu dai**: chiều dài của đất nền"
   ]
  }
 ],
 "metadata": {
  "kernelspec": {
   "display_name": "Python 3",
   "language": "python",
   "name": "python3"
  },
  "language_info": {
   "codemirror_mode": {
    "name": "ipython",
    "version": 3
   },
   "file_extension": ".py",
   "mimetype": "text/x-python",
   "name": "python",
   "nbconvert_exporter": "python",
   "pygments_lexer": "ipython3",
   "version": "3.11.9"
  }
 },
 "nbformat": 4,
 "nbformat_minor": 2
}
